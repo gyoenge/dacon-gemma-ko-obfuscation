{
 "cells": [
  {
   "cell_type": "markdown",
   "id": "55cfce3e-cb1e-43e3-82c8-6ece76672dea",
   "metadata": {},
   "source": [
    "### konoise"
   ]
  },
  {
   "cell_type": "code",
   "execution_count": 7,
   "id": "2499dfc4-273f-4155-ab17-59040a8035ac",
   "metadata": {},
   "outputs": [],
   "source": [
    "%%capture\n",
    "!pip install --upgrade pip setuptools\n",
    "!pip install setuptools-rust\n",
    "!pip install tqdm"
   ]
  },
  {
   "cell_type": "code",
   "execution_count": 5,
   "id": "5f0f820b-e941-4634-acba-c2d35c992d7a",
   "metadata": {},
   "outputs": [
    {
     "name": "stdout",
     "output_type": "stream",
     "text": [
      "Collecting konoise==1.0.4.6\n",
      "  Downloading konoise-1.0.4.6-py3-none-any.whl.metadata (213 bytes)\n",
      "Downloading konoise-1.0.4.6-py3-none-any.whl (6.7 kB)\n",
      "Installing collected packages: konoise\n",
      "Successfully installed konoise-1.0.4.6\n",
      "\u001b[33mWARNING: Running pip as the 'root' user can result in broken permissions and conflicting behaviour with the system package manager. It is recommended to use a virtual environment instead: https://pip.pypa.io/warnings/venv\u001b[0m\u001b[33m\n",
      "\u001b[0m\n",
      "\u001b[1m[\u001b[0m\u001b[34;49mnotice\u001b[0m\u001b[1;39;49m]\u001b[0m\u001b[39;49m A new release of pip is available: \u001b[0m\u001b[31;49m23.3.1\u001b[0m\u001b[39;49m -> \u001b[0m\u001b[32;49m25.0.1\u001b[0m\n",
      "\u001b[1m[\u001b[0m\u001b[34;49mnotice\u001b[0m\u001b[1;39;49m]\u001b[0m\u001b[39;49m To update, run: \u001b[0m\u001b[32;49mpython -m pip install --upgrade pip\u001b[0m\n"
     ]
    }
   ],
   "source": [
    "!pip install konoise==1.0.4.6"
   ]
  },
  {
   "cell_type": "code",
   "execution_count": 8,
   "id": "1613243f-9094-4071-9d29-6c879e562fbb",
   "metadata": {},
   "outputs": [],
   "source": [
    "from konoise import NoiseGenerator"
   ]
  },
  {
   "cell_type": "code",
   "execution_count": 9,
   "id": "823894a9-fee0-4158-a5a8-8bc9f7d87e06",
   "metadata": {},
   "outputs": [],
   "source": [
    "def noiser(text, methods='change-vowels'): \n",
    "    generator = NoiseGenerator(num_cores=8)\n",
    "    text = generator.generate(\n",
    "        text, \n",
    "        methods=methods,  \n",
    "        prob=1., \n",
    "        delimeter='newline'\n",
    "    )\n",
    "\n",
    "    return text "
   ]
  },
  {
   "cell_type": "code",
   "execution_count": 22,
   "id": "0f777bc0-fd33-4651-aa16-3eff751a1250",
   "metadata": {},
   "outputs": [
    {
     "name": "stderr",
     "output_type": "stream",
     "text": [
      "100%|██████████| 1/1 [00:00<00:00, 11715.93it/s]"
     ]
    },
    {
     "name": "stdout",
     "output_type": "stream",
     "text": [
      "행복한 갸정은 묘듀갸 닮았지만, 불행한 갸정은 묘듀 져먀댜의 이우료 불행햐댜.\n"
     ]
    },
    {
     "name": "stderr",
     "output_type": "stream",
     "text": [
      "\n",
      "100%|██████████| 1/1 [00:00<00:00, 5607.36it/s]"
     ]
    },
    {
     "name": "stdout",
     "output_type": "stream",
     "text": [
      "행보칸 가정은 모두가 닮았지만, 불행한 가정은 모두 저마다의 이유로 불행하다.\n"
     ]
    },
    {
     "name": "stderr",
     "output_type": "stream",
     "text": [
      "\n",
      "100%|██████████| 1/1 [00:00<00:00, 14820.86it/s]"
     ]
    },
    {
     "name": "stdout",
     "output_type": "stream",
     "text": [
      "행복한 가정은 모두가 달맜지만, 불행한 가정은 모두 저마다의 이유로 불행하다.\n"
     ]
    },
    {
     "name": "stderr",
     "output_type": "stream",
     "text": [
      "\n",
      "100%|██████████| 1/1 [00:00<00:00, 15196.75it/s]\n",
      "100%|██████████| 1/1 [00:00<00:00, 9218.25it/s]\n",
      "100%|██████████| 1/1 [00:00<00:00, 8176.03it/s]"
     ]
    },
    {
     "name": "stdout",
     "output_type": "stream",
     "text": [
      "행보칸 갸정은 묘듀갸 달맜지만, 불행한 갸정은 묘듀 져먀댜의 이우료 불행햐댜.\n"
     ]
    },
    {
     "name": "stderr",
     "output_type": "stream",
     "text": [
      "\n"
     ]
    }
   ],
   "source": [
    "text = \"행복한 가정은 모두가 닮았지만, 불행한 가정은 모두 저마다의 이유로 불행하다.\"\n",
    "\n",
    "print(noiser(text, 'change-vowels'))\n",
    "print(noiser(text, 'palatalization'))\n",
    "print(noiser(text, 'linking'))\n",
    "\n",
    "print(noiser(noiser(noiser(text, 'change-vowels'), 'palatalization'), 'linking'))"
   ]
  },
  {
   "cell_type": "code",
   "execution_count": null,
   "id": "55296d61-8198-4fbc-97ef-6d50c1770b61",
   "metadata": {},
   "outputs": [],
   "source": []
  }
 ],
 "metadata": {
  "kernelspec": {
   "display_name": "Python 3 (ipykernel)",
   "language": "python",
   "name": "python3"
  },
  "language_info": {
   "codemirror_mode": {
    "name": "ipython",
    "version": 3
   },
   "file_extension": ".py",
   "mimetype": "text/x-python",
   "name": "python",
   "nbconvert_exporter": "python",
   "pygments_lexer": "ipython3",
   "version": "3.10.12"
  }
 },
 "nbformat": 4,
 "nbformat_minor": 5
}
